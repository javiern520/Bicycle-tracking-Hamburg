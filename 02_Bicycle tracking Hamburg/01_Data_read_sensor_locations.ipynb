{
 "cells": [
  {
   "cell_type": "markdown",
   "id": "bfa2c8b2-4acd-411a-9f6f-6b705ab095d0",
   "metadata": {
    "tags": []
   },
   "source": [
    "# Visualization of Bicycle Infrared detectors across Hamburg"
   ]
  },
  {
   "cell_type": "markdown",
   "id": "6ece3494-eefb-4840-a6b0-947ec1b2217c",
   "metadata": {},
   "source": [
    "### Introduction"
   ]
  },
  {
   "cell_type": "markdown",
   "id": "6ae0225a-c524-4d62-9a24-78c2df46294d",
   "metadata": {},
   "source": [
    "The city of Hamburg introduced in 2020 some infrared sensors to observe the circulation of bicycles accross different points of the city. This give the opportunity to the city to analyse the patterns on bicycle flows depending on availability of routes, weather and seasonality. In this project will focuse first on the visualization on the places where these sensors are placed and a first analysis of its location."
   ]
  },
  {
   "cell_type": "markdown",
   "id": "a0328505-0171-4f2b-9077-7838eb2da4e1",
   "metadata": {},
   "source": [
    "### Resources"
   ]
  },
  {
   "cell_type": "markdown",
   "id": "03601525-24b0-4afe-8e61-7ff4147400b3",
   "metadata": {},
   "source": [
    "As resource it will be used the data openly provided by the city of Hamburg.\n",
    "\n",
    "A link to the source is provided here [Data Source](https://suche.transparenz.hamburg.de/dataset/verkehrsdaten-rad-infrarotdetektoren-hamburg8?forceWeb=true)"
   ]
  },
  {
   "cell_type": "markdown",
   "id": "839e430d-f5a0-4b2a-a933-61cc5ef1b15c",
   "metadata": {},
   "source": [
    "## Sensor location"
   ]
  },
  {
   "cell_type": "markdown",
   "id": "78bdc606-7917-40e7-ad9a-123cb414422b",
   "metadata": {},
   "source": [
    "### Data interpretation and extraction"
   ]
  },
  {
   "cell_type": "markdown",
   "id": "6ec64e4c-8a8a-4629-82ac-5adfa12db81b",
   "metadata": {},
   "source": [
    "It was decided to analyze first the location of the sensors. This analysis will give a better understanding of which parts of hamburg are being tracked by this devices and afterwards it could be related other factors to the lectures of the sensors."
   ]
  },
  {
   "cell_type": "code",
   "execution_count": 157,
   "id": "da263e65-4593-42c6-853f-71de775b0027",
   "metadata": {},
   "outputs": [],
   "source": [
    "#Needed libraries\n",
    "import numpy as np\n",
    "import pandas as pd\n",
    "import math"
   ]
  },
  {
   "cell_type": "markdown",
   "id": "eb1bd484-d49b-4105-a691-624c59d61744",
   "metadata": {},
   "source": [
    "##### First data exploration"
   ]
  },
  {
   "cell_type": "code",
   "execution_count": 158,
   "id": "1c452b7e-456a-485b-b8e7-86f78f4d65bf",
   "metadata": {},
   "outputs": [],
   "source": [
    "#This is used to read the location data of the sensors\n",
    "df_sensor_loc = pd.read_json(\"https://iot.hamburg.de/v1.1/Things?$filter=Datastreams/properties/serviceName%20eq%20%27HH_STA_HamburgerRadzaehlnetz%27%20&$count=true&$expand=Locations\")"
   ]
  },
  {
   "cell_type": "code",
   "execution_count": 159,
   "id": "3f420810-c95f-4bf9-8dec-a72a33f98770",
   "metadata": {
    "tags": []
   },
   "outputs": [
    {
     "data": {
      "text/html": [
       "<div>\n",
       "<style scoped>\n",
       "    .dataframe tbody tr th:only-of-type {\n",
       "        vertical-align: middle;\n",
       "    }\n",
       "\n",
       "    .dataframe tbody tr th {\n",
       "        vertical-align: top;\n",
       "    }\n",
       "\n",
       "    .dataframe thead th {\n",
       "        text-align: right;\n",
       "    }\n",
       "</style>\n",
       "<table border=\"1\" class=\"dataframe\">\n",
       "  <thead>\n",
       "    <tr style=\"text-align: right;\">\n",
       "      <th></th>\n",
       "      <th>@iot.count</th>\n",
       "      <th>@iot.nextLink</th>\n",
       "      <th>value</th>\n",
       "    </tr>\n",
       "  </thead>\n",
       "  <tbody>\n",
       "    <tr>\n",
       "      <th>0</th>\n",
       "      <td>312</td>\n",
       "      <td>https://iot.hamburg.de/v1.1/Things?$skip=100&amp;$...</td>\n",
       "      <td>{'description': 'Verkehrszählstelle zur Zählun...</td>\n",
       "    </tr>\n",
       "    <tr>\n",
       "      <th>1</th>\n",
       "      <td>312</td>\n",
       "      <td>https://iot.hamburg.de/v1.1/Things?$skip=100&amp;$...</td>\n",
       "      <td>{'description': 'Verkehrszählstelle zur Zählun...</td>\n",
       "    </tr>\n",
       "    <tr>\n",
       "      <th>2</th>\n",
       "      <td>312</td>\n",
       "      <td>https://iot.hamburg.de/v1.1/Things?$skip=100&amp;$...</td>\n",
       "      <td>{'description': 'Verkehrszählstelle zur Zählun...</td>\n",
       "    </tr>\n",
       "    <tr>\n",
       "      <th>3</th>\n",
       "      <td>312</td>\n",
       "      <td>https://iot.hamburg.de/v1.1/Things?$skip=100&amp;$...</td>\n",
       "      <td>{'description': 'Verkehrszählstelle zur Zählun...</td>\n",
       "    </tr>\n",
       "    <tr>\n",
       "      <th>4</th>\n",
       "      <td>312</td>\n",
       "      <td>https://iot.hamburg.de/v1.1/Things?$skip=100&amp;$...</td>\n",
       "      <td>{'description': 'Verkehrszählstelle zur Zählun...</td>\n",
       "    </tr>\n",
       "    <tr>\n",
       "      <th>...</th>\n",
       "      <td>...</td>\n",
       "      <td>...</td>\n",
       "      <td>...</td>\n",
       "    </tr>\n",
       "    <tr>\n",
       "      <th>95</th>\n",
       "      <td>312</td>\n",
       "      <td>https://iot.hamburg.de/v1.1/Things?$skip=100&amp;$...</td>\n",
       "      <td>{'description': 'Zählfeld zur Bestimmung der v...</td>\n",
       "    </tr>\n",
       "    <tr>\n",
       "      <th>96</th>\n",
       "      <td>312</td>\n",
       "      <td>https://iot.hamburg.de/v1.1/Things?$skip=100&amp;$...</td>\n",
       "      <td>{'description': 'Zählfeld zur Bestimmung der v...</td>\n",
       "    </tr>\n",
       "    <tr>\n",
       "      <th>97</th>\n",
       "      <td>312</td>\n",
       "      <td>https://iot.hamburg.de/v1.1/Things?$skip=100&amp;$...</td>\n",
       "      <td>{'description': 'Zählfeld zur Bestimmung der v...</td>\n",
       "    </tr>\n",
       "    <tr>\n",
       "      <th>98</th>\n",
       "      <td>312</td>\n",
       "      <td>https://iot.hamburg.de/v1.1/Things?$skip=100&amp;$...</td>\n",
       "      <td>{'description': 'Zählfeld zur Bestimmung der v...</td>\n",
       "    </tr>\n",
       "    <tr>\n",
       "      <th>99</th>\n",
       "      <td>312</td>\n",
       "      <td>https://iot.hamburg.de/v1.1/Things?$skip=100&amp;$...</td>\n",
       "      <td>{'description': 'Zählfeld zur Bestimmung der v...</td>\n",
       "    </tr>\n",
       "  </tbody>\n",
       "</table>\n",
       "<p>100 rows × 3 columns</p>\n",
       "</div>"
      ],
      "text/plain": [
       "    @iot.count                                      @iot.nextLink  \\\n",
       "0          312  https://iot.hamburg.de/v1.1/Things?$skip=100&$...   \n",
       "1          312  https://iot.hamburg.de/v1.1/Things?$skip=100&$...   \n",
       "2          312  https://iot.hamburg.de/v1.1/Things?$skip=100&$...   \n",
       "3          312  https://iot.hamburg.de/v1.1/Things?$skip=100&$...   \n",
       "4          312  https://iot.hamburg.de/v1.1/Things?$skip=100&$...   \n",
       "..         ...                                                ...   \n",
       "95         312  https://iot.hamburg.de/v1.1/Things?$skip=100&$...   \n",
       "96         312  https://iot.hamburg.de/v1.1/Things?$skip=100&$...   \n",
       "97         312  https://iot.hamburg.de/v1.1/Things?$skip=100&$...   \n",
       "98         312  https://iot.hamburg.de/v1.1/Things?$skip=100&$...   \n",
       "99         312  https://iot.hamburg.de/v1.1/Things?$skip=100&$...   \n",
       "\n",
       "                                                value  \n",
       "0   {'description': 'Verkehrszählstelle zur Zählun...  \n",
       "1   {'description': 'Verkehrszählstelle zur Zählun...  \n",
       "2   {'description': 'Verkehrszählstelle zur Zählun...  \n",
       "3   {'description': 'Verkehrszählstelle zur Zählun...  \n",
       "4   {'description': 'Verkehrszählstelle zur Zählun...  \n",
       "..                                                ...  \n",
       "95  {'description': 'Zählfeld zur Bestimmung der v...  \n",
       "96  {'description': 'Zählfeld zur Bestimmung der v...  \n",
       "97  {'description': 'Zählfeld zur Bestimmung der v...  \n",
       "98  {'description': 'Zählfeld zur Bestimmung der v...  \n",
       "99  {'description': 'Zählfeld zur Bestimmung der v...  \n",
       "\n",
       "[100 rows x 3 columns]"
      ]
     },
     "execution_count": 159,
     "metadata": {},
     "output_type": "execute_result"
    }
   ],
   "source": [
    "df_sensor_loc"
   ]
  },
  {
   "cell_type": "markdown",
   "id": "789bd7d9-ad8c-4aef-89db-cc6a7aa8fad3",
   "metadata": {},
   "source": [
    "The first display of the data doesn't tell many on the first view. Some of the insights found were:\n",
    "1. There are 312 sensors around Hamburg, as noticed by the @iot.count column\n",
    "2. This first extraction of the data showed only the first 100 sensors, to look at the next 100 the data showed in the column @iot.nestLink the address to the .json object for the next ones. \n",
    "3. The column value probably is the one containing the information of each sensor. This has to be further explored."
   ]
  },
  {
   "cell_type": "markdown",
   "id": "3b6abab5-e4fd-49a9-8ddd-715b71c000b0",
   "metadata": {},
   "source": [
    "Now the information contained in the column value will be explored, to understand the data set."
   ]
  },
  {
   "cell_type": "code",
   "execution_count": 160,
   "id": "9508b459-56cf-4863-8a12-5d9e78ca3aa8",
   "metadata": {
    "tags": []
   },
   "outputs": [
    {
     "data": {
      "text/plain": [
       "{'description': 'Verkehrszählstelle zur Zählung der vom Infrarotdetektor erfassten Mobilitätswerkzeuge',\n",
       " '@iot.id': 5564,\n",
       " 'name': 'Verkehrszählstelle 0295970',\n",
       " 'properties': {'assetID': '0295970',\n",
       "  'keywords': ['Infrarotdetektor',\n",
       "   'Verkehrsmenge',\n",
       "   'automatisierte Verkehrsmengenerfassung',\n",
       "   'Hamburger Radzählnetz',\n",
       "   'Hamburg',\n",
       "   'aVME',\n",
       "   'HaRaZäN',\n",
       "   'Zählstelle'],\n",
       "  'language': 'de',\n",
       "  'richtung': 'Querschnitt',\n",
       "  'ownerThing': 'Freie und Hansestadt Hamburg',\n",
       "  'infoLastUpdate': '2021-09-16T07:59:31.678Z'},\n",
       " '@iot.selfLink': 'https://iot.hamburg.de/v1.1/Things(5564)',\n",
       " 'Locations': [{'description': 'Mittelpunkt des Streckenverlaufes bezüglich Zählstelle 0295 auf dem Richtungsarm Südwest für den Zählquerschnitt',\n",
       "   'encodingType': 'application/vnd.geo+json',\n",
       "   '@iot.id': 26517652,\n",
       "   'location': {'type': 'Feature',\n",
       "    'geometry': {'type': 'Point', 'coordinates': [9.999098, 53.579928]}},\n",
       "   'name': 'Verkehrszählstelle 0295970',\n",
       "   '@iot.selfLink': 'https://iot.hamburg.de/v1.1/Locations(26517652)'}],\n",
       " 'HistoricalLocations@iot.navigationLink': 'https://iot.hamburg.de/v1.1/Things(5564)/HistoricalLocations',\n",
       " 'MultiDatastreams@iot.navigationLink': 'https://iot.hamburg.de/v1.1/Things(5564)/MultiDatastreams',\n",
       " 'TaskingCapabilities@iot.navigationLink': 'https://iot.hamburg.de/v1.1/Things(5564)/TaskingCapabilities',\n",
       " 'Locations@iot.navigationLink': 'https://iot.hamburg.de/v1.1/Things(5564)/Locations',\n",
       " 'Datastreams@iot.navigationLink': 'https://iot.hamburg.de/v1.1/Things(5564)/Datastreams'}"
      ]
     },
     "execution_count": 160,
     "metadata": {},
     "output_type": "execute_result"
    }
   ],
   "source": [
    "#Display first value of the column value\n",
    "sen_1 = df_sensor_loc['value'][0]\n",
    "sen_1"
   ]
  },
  {
   "cell_type": "markdown",
   "id": "b5be2590-2a41-4f6d-909b-39d8907ea4b3",
   "metadata": {},
   "source": [
    "The column value contains a directiory with different information of a particular snesor. For this first part of the project it was important a unique id number (@iot.id), and the location. It was also notiuced that this directory contains nested directories like in the case of the location."
   ]
  },
  {
   "cell_type": "code",
   "execution_count": 161,
   "id": "d2a9ad73-56f3-4285-8055-dc7d82ef5f93",
   "metadata": {},
   "outputs": [
    {
     "data": {
      "text/plain": [
       "dict_keys(['description', '@iot.id', 'name', 'properties', '@iot.selfLink', 'Locations', 'HistoricalLocations@iot.navigationLink', 'MultiDatastreams@iot.navigationLink', 'TaskingCapabilities@iot.navigationLink', 'Locations@iot.navigationLink', 'Datastreams@iot.navigationLink'])"
      ]
     },
     "execution_count": 161,
     "metadata": {},
     "output_type": "execute_result"
    }
   ],
   "source": [
    "#Extraction of the keys of the directory to further explore the location\n",
    "sen_1.keys()"
   ]
  },
  {
   "cell_type": "code",
   "execution_count": 162,
   "id": "5e7348cb-92a8-48f9-ad70-ec2b07e71aeb",
   "metadata": {
    "tags": []
   },
   "outputs": [
    {
     "data": {
      "text/plain": [
       "[{'description': 'Mittelpunkt des Streckenverlaufes bezüglich Zählstelle 0295 auf dem Richtungsarm Südwest für den Zählquerschnitt',\n",
       "  'encodingType': 'application/vnd.geo+json',\n",
       "  '@iot.id': 26517652,\n",
       "  'location': {'type': 'Feature',\n",
       "   'geometry': {'type': 'Point', 'coordinates': [9.999098, 53.579928]}},\n",
       "  'name': 'Verkehrszählstelle 0295970',\n",
       "  '@iot.selfLink': 'https://iot.hamburg.de/v1.1/Locations(26517652)'}]"
      ]
     },
     "execution_count": 162,
     "metadata": {},
     "output_type": "execute_result"
    }
   ],
   "source": [
    "#Display information contained by key 'Locations'\n",
    "sen_1['Locations']"
   ]
  },
  {
   "cell_type": "markdown",
   "id": "b956c81c-61a5-4554-b27a-f13e4c17829d",
   "metadata": {},
   "source": [
    "In the previous cell it can be seen the information contained by the key 'Locations', which includes the coordinates of the sensor's location. A possibility to manually extract the coordinates could be by typing the following: sen_1['Locations'][0]['location']['geometry']['coordinates']"
   ]
  },
  {
   "cell_type": "markdown",
   "id": "6b8cb75f-eef3-4b67-a4e9-9e15a988e40a",
   "metadata": {},
   "source": [
    "As already mentioned before, the information of the sensors is stored separately and it can show a maximum of 100 per data set. Therefore in the next part all this information will be gathered and stored in a single data frame."
   ]
  },
  {
   "cell_type": "code",
   "execution_count": 163,
   "id": "e23c6bcb-34aa-4abf-9074-d7320fbaad75",
   "metadata": {},
   "outputs": [],
   "source": [
    "#Function definition to store all data in the same data frame\n",
    "def data_build(data, n):\n",
    "    for i in range(1,n):\n",
    "        j = data.shape[0]-1\n",
    "        url = data['@iot.nextLink'][j]\n",
    "        new_df = pd.read_json(url)\n",
    "        data = data.append(new_df, ignore_index = True)\n",
    "    return(data)"
   ]
  },
  {
   "cell_type": "code",
   "execution_count": 164,
   "id": "0b25d060-4597-4fd9-95eb-4dfe3475f2e8",
   "metadata": {},
   "outputs": [],
   "source": [
    "max_sen = df_sensor_loc['@iot.count'][0] #extraction total amount of sensors\n",
    "n = math.ceil(max_sen/100) #definition of loop numbers\n",
    "df_sensor_loc = data_build(df_sensor_loc, n) #call function to store all the data in same data frame"
   ]
  },
  {
   "cell_type": "code",
   "execution_count": 165,
   "id": "7491dd58-b36b-482e-b24b-ef0fd2d946f8",
   "metadata": {
    "tags": []
   },
   "outputs": [
    {
     "data": {
      "text/html": [
       "<div>\n",
       "<style scoped>\n",
       "    .dataframe tbody tr th:only-of-type {\n",
       "        vertical-align: middle;\n",
       "    }\n",
       "\n",
       "    .dataframe tbody tr th {\n",
       "        vertical-align: top;\n",
       "    }\n",
       "\n",
       "    .dataframe thead th {\n",
       "        text-align: right;\n",
       "    }\n",
       "</style>\n",
       "<table border=\"1\" class=\"dataframe\">\n",
       "  <thead>\n",
       "    <tr style=\"text-align: right;\">\n",
       "      <th></th>\n",
       "      <th>@iot.count</th>\n",
       "      <th>@iot.nextLink</th>\n",
       "      <th>value</th>\n",
       "    </tr>\n",
       "  </thead>\n",
       "  <tbody>\n",
       "    <tr>\n",
       "      <th>0</th>\n",
       "      <td>312</td>\n",
       "      <td>https://iot.hamburg.de/v1.1/Things?$skip=100&amp;$...</td>\n",
       "      <td>{'description': 'Verkehrszählstelle zur Zählun...</td>\n",
       "    </tr>\n",
       "    <tr>\n",
       "      <th>1</th>\n",
       "      <td>312</td>\n",
       "      <td>https://iot.hamburg.de/v1.1/Things?$skip=100&amp;$...</td>\n",
       "      <td>{'description': 'Verkehrszählstelle zur Zählun...</td>\n",
       "    </tr>\n",
       "    <tr>\n",
       "      <th>2</th>\n",
       "      <td>312</td>\n",
       "      <td>https://iot.hamburg.de/v1.1/Things?$skip=100&amp;$...</td>\n",
       "      <td>{'description': 'Verkehrszählstelle zur Zählun...</td>\n",
       "    </tr>\n",
       "    <tr>\n",
       "      <th>3</th>\n",
       "      <td>312</td>\n",
       "      <td>https://iot.hamburg.de/v1.1/Things?$skip=100&amp;$...</td>\n",
       "      <td>{'description': 'Verkehrszählstelle zur Zählun...</td>\n",
       "    </tr>\n",
       "    <tr>\n",
       "      <th>4</th>\n",
       "      <td>312</td>\n",
       "      <td>https://iot.hamburg.de/v1.1/Things?$skip=100&amp;$...</td>\n",
       "      <td>{'description': 'Verkehrszählstelle zur Zählun...</td>\n",
       "    </tr>\n",
       "    <tr>\n",
       "      <th>...</th>\n",
       "      <td>...</td>\n",
       "      <td>...</td>\n",
       "      <td>...</td>\n",
       "    </tr>\n",
       "    <tr>\n",
       "      <th>307</th>\n",
       "      <td>312</td>\n",
       "      <td>NaN</td>\n",
       "      <td>{'description': 'Zählfeld zur Bestimmung der v...</td>\n",
       "    </tr>\n",
       "    <tr>\n",
       "      <th>308</th>\n",
       "      <td>312</td>\n",
       "      <td>NaN</td>\n",
       "      <td>{'description': 'Zählfeld zur Bestimmung der v...</td>\n",
       "    </tr>\n",
       "    <tr>\n",
       "      <th>309</th>\n",
       "      <td>312</td>\n",
       "      <td>NaN</td>\n",
       "      <td>{'description': 'Zählfeld zur Bestimmung der v...</td>\n",
       "    </tr>\n",
       "    <tr>\n",
       "      <th>310</th>\n",
       "      <td>312</td>\n",
       "      <td>NaN</td>\n",
       "      <td>{'description': 'Zählfeld zur Bestimmung der v...</td>\n",
       "    </tr>\n",
       "    <tr>\n",
       "      <th>311</th>\n",
       "      <td>312</td>\n",
       "      <td>NaN</td>\n",
       "      <td>{'description': 'Zählfeld zur Bestimmung der v...</td>\n",
       "    </tr>\n",
       "  </tbody>\n",
       "</table>\n",
       "<p>312 rows × 3 columns</p>\n",
       "</div>"
      ],
      "text/plain": [
       "     @iot.count                                      @iot.nextLink  \\\n",
       "0           312  https://iot.hamburg.de/v1.1/Things?$skip=100&$...   \n",
       "1           312  https://iot.hamburg.de/v1.1/Things?$skip=100&$...   \n",
       "2           312  https://iot.hamburg.de/v1.1/Things?$skip=100&$...   \n",
       "3           312  https://iot.hamburg.de/v1.1/Things?$skip=100&$...   \n",
       "4           312  https://iot.hamburg.de/v1.1/Things?$skip=100&$...   \n",
       "..          ...                                                ...   \n",
       "307         312                                                NaN   \n",
       "308         312                                                NaN   \n",
       "309         312                                                NaN   \n",
       "310         312                                                NaN   \n",
       "311         312                                                NaN   \n",
       "\n",
       "                                                 value  \n",
       "0    {'description': 'Verkehrszählstelle zur Zählun...  \n",
       "1    {'description': 'Verkehrszählstelle zur Zählun...  \n",
       "2    {'description': 'Verkehrszählstelle zur Zählun...  \n",
       "3    {'description': 'Verkehrszählstelle zur Zählun...  \n",
       "4    {'description': 'Verkehrszählstelle zur Zählun...  \n",
       "..                                                 ...  \n",
       "307  {'description': 'Zählfeld zur Bestimmung der v...  \n",
       "308  {'description': 'Zählfeld zur Bestimmung der v...  \n",
       "309  {'description': 'Zählfeld zur Bestimmung der v...  \n",
       "310  {'description': 'Zählfeld zur Bestimmung der v...  \n",
       "311  {'description': 'Zählfeld zur Bestimmung der v...  \n",
       "\n",
       "[312 rows x 3 columns]"
      ]
     },
     "execution_count": 165,
     "metadata": {},
     "output_type": "execute_result"
    }
   ],
   "source": [
    "df_sensor_loc #Display of the merging result"
   ]
  },
  {
   "cell_type": "markdown",
   "id": "9ae9056b-c6c7-491e-b145-9731b332bb76",
   "metadata": {},
   "source": [
    "Now the data in value column will be extracted and a more user friendly data frame will be created for a posterior visualization. At this point the columns @iot.count and @iot.nextLink won't help at all any more, therefore we will replace our actual data frame for values in the column value, which will be normalized."
   ]
  },
  {
   "cell_type": "code",
   "execution_count": 166,
   "id": "edce4f0e-48f8-40df-97f5-c8baaed648cf",
   "metadata": {
    "tags": []
   },
   "outputs": [
    {
     "data": {
      "text/html": [
       "<div>\n",
       "<style scoped>\n",
       "    .dataframe tbody tr th:only-of-type {\n",
       "        vertical-align: middle;\n",
       "    }\n",
       "\n",
       "    .dataframe tbody tr th {\n",
       "        vertical-align: top;\n",
       "    }\n",
       "\n",
       "    .dataframe thead th {\n",
       "        text-align: right;\n",
       "    }\n",
       "</style>\n",
       "<table border=\"1\" class=\"dataframe\">\n",
       "  <thead>\n",
       "    <tr style=\"text-align: right;\">\n",
       "      <th></th>\n",
       "      <th>description</th>\n",
       "      <th>@iot.id</th>\n",
       "      <th>name</th>\n",
       "      <th>@iot.selfLink</th>\n",
       "      <th>Locations</th>\n",
       "      <th>HistoricalLocations@iot.navigationLink</th>\n",
       "      <th>MultiDatastreams@iot.navigationLink</th>\n",
       "      <th>TaskingCapabilities@iot.navigationLink</th>\n",
       "      <th>Locations@iot.navigationLink</th>\n",
       "      <th>Datastreams@iot.navigationLink</th>\n",
       "      <th>properties.assetID</th>\n",
       "      <th>properties.keywords</th>\n",
       "      <th>properties.language</th>\n",
       "      <th>properties.richtung</th>\n",
       "      <th>properties.ownerThing</th>\n",
       "      <th>properties.infoLastUpdate</th>\n",
       "      <th>properties.topic</th>\n",
       "    </tr>\n",
       "  </thead>\n",
       "  <tbody>\n",
       "    <tr>\n",
       "      <th>0</th>\n",
       "      <td>Verkehrszählstelle zur Zählung der vom Infraro...</td>\n",
       "      <td>5564</td>\n",
       "      <td>Verkehrszählstelle 0295970</td>\n",
       "      <td>https://iot.hamburg.de/v1.1/Things(5564)</td>\n",
       "      <td>[{'description': 'Mittelpunkt des Streckenverl...</td>\n",
       "      <td>https://iot.hamburg.de/v1.1/Things(5564)/Histo...</td>\n",
       "      <td>https://iot.hamburg.de/v1.1/Things(5564)/Multi...</td>\n",
       "      <td>https://iot.hamburg.de/v1.1/Things(5564)/Taski...</td>\n",
       "      <td>https://iot.hamburg.de/v1.1/Things(5564)/Locat...</td>\n",
       "      <td>https://iot.hamburg.de/v1.1/Things(5564)/Datas...</td>\n",
       "      <td>0295970</td>\n",
       "      <td>[Infrarotdetektor, Verkehrsmenge, automatisier...</td>\n",
       "      <td>de</td>\n",
       "      <td>Querschnitt</td>\n",
       "      <td>Freie und Hansestadt Hamburg</td>\n",
       "      <td>2021-09-16T07:59:31.678Z</td>\n",
       "      <td>NaN</td>\n",
       "    </tr>\n",
       "    <tr>\n",
       "      <th>1</th>\n",
       "      <td>Verkehrszählstelle zur Zählung der vom Infraro...</td>\n",
       "      <td>5565</td>\n",
       "      <td>Verkehrszählstelle 0295971</td>\n",
       "      <td>https://iot.hamburg.de/v1.1/Things(5565)</td>\n",
       "      <td>[{'description': 'Mittelpunkt des Streckenverl...</td>\n",
       "      <td>https://iot.hamburg.de/v1.1/Things(5565)/Histo...</td>\n",
       "      <td>https://iot.hamburg.de/v1.1/Things(5565)/Multi...</td>\n",
       "      <td>https://iot.hamburg.de/v1.1/Things(5565)/Taski...</td>\n",
       "      <td>https://iot.hamburg.de/v1.1/Things(5565)/Locat...</td>\n",
       "      <td>https://iot.hamburg.de/v1.1/Things(5565)/Datas...</td>\n",
       "      <td>0295971</td>\n",
       "      <td>[Infrarotdetektor, Verkehrsmenge, automatisier...</td>\n",
       "      <td>de</td>\n",
       "      <td>Nordost nach Südwest</td>\n",
       "      <td>Freie und Hansestadt Hamburg</td>\n",
       "      <td>2021-09-16T07:59:30.886Z</td>\n",
       "      <td>NaN</td>\n",
       "    </tr>\n",
       "    <tr>\n",
       "      <th>2</th>\n",
       "      <td>Verkehrszählstelle zur Zählung der vom Infraro...</td>\n",
       "      <td>5566</td>\n",
       "      <td>Verkehrszählstelle 0295972</td>\n",
       "      <td>https://iot.hamburg.de/v1.1/Things(5566)</td>\n",
       "      <td>[{'description': 'Mittelpunkt des Streckenverl...</td>\n",
       "      <td>https://iot.hamburg.de/v1.1/Things(5566)/Histo...</td>\n",
       "      <td>https://iot.hamburg.de/v1.1/Things(5566)/Multi...</td>\n",
       "      <td>https://iot.hamburg.de/v1.1/Things(5566)/Taski...</td>\n",
       "      <td>https://iot.hamburg.de/v1.1/Things(5566)/Locat...</td>\n",
       "      <td>https://iot.hamburg.de/v1.1/Things(5566)/Datas...</td>\n",
       "      <td>0295972</td>\n",
       "      <td>[Infrarotdetektor, Verkehrsmenge, automatisier...</td>\n",
       "      <td>de</td>\n",
       "      <td>Südwest nach Nordost</td>\n",
       "      <td>Freie und Hansestadt Hamburg</td>\n",
       "      <td>2021-09-16T07:59:30.014Z</td>\n",
       "      <td>NaN</td>\n",
       "    </tr>\n",
       "    <tr>\n",
       "      <th>3</th>\n",
       "      <td>Verkehrszählstelle zur Zählung der vom Infraro...</td>\n",
       "      <td>5567</td>\n",
       "      <td>Verkehrszählstelle 0004940</td>\n",
       "      <td>https://iot.hamburg.de/v1.1/Things(5567)</td>\n",
       "      <td>[{'description': 'Mittelpunkt des Streckenverl...</td>\n",
       "      <td>https://iot.hamburg.de/v1.1/Things(5567)/Histo...</td>\n",
       "      <td>https://iot.hamburg.de/v1.1/Things(5567)/Multi...</td>\n",
       "      <td>https://iot.hamburg.de/v1.1/Things(5567)/Taski...</td>\n",
       "      <td>https://iot.hamburg.de/v1.1/Things(5567)/Locat...</td>\n",
       "      <td>https://iot.hamburg.de/v1.1/Things(5567)/Datas...</td>\n",
       "      <td>0004940</td>\n",
       "      <td>[Infrarotdetektor, Verkehrsmenge, automatisier...</td>\n",
       "      <td>de</td>\n",
       "      <td>Querschnitt</td>\n",
       "      <td>Freie und Hansestadt Hamburg</td>\n",
       "      <td>2021-09-16T09:11:25.563Z</td>\n",
       "      <td>NaN</td>\n",
       "    </tr>\n",
       "    <tr>\n",
       "      <th>4</th>\n",
       "      <td>Verkehrszählstelle zur Zählung der vom Infraro...</td>\n",
       "      <td>5568</td>\n",
       "      <td>Verkehrszählstelle 0004941</td>\n",
       "      <td>https://iot.hamburg.de/v1.1/Things(5568)</td>\n",
       "      <td>[{'description': 'Mittelpunkt des Streckenverl...</td>\n",
       "      <td>https://iot.hamburg.de/v1.1/Things(5568)/Histo...</td>\n",
       "      <td>https://iot.hamburg.de/v1.1/Things(5568)/Multi...</td>\n",
       "      <td>https://iot.hamburg.de/v1.1/Things(5568)/Taski...</td>\n",
       "      <td>https://iot.hamburg.de/v1.1/Things(5568)/Locat...</td>\n",
       "      <td>https://iot.hamburg.de/v1.1/Things(5568)/Datas...</td>\n",
       "      <td>0004941</td>\n",
       "      <td>[Infrarotdetektor, Verkehrsmenge, automatisier...</td>\n",
       "      <td>de</td>\n",
       "      <td>Ost nach West</td>\n",
       "      <td>Freie und Hansestadt Hamburg</td>\n",
       "      <td>2021-09-16T09:11:22.559Z</td>\n",
       "      <td>NaN</td>\n",
       "    </tr>\n",
       "  </tbody>\n",
       "</table>\n",
       "</div>"
      ],
      "text/plain": [
       "                                         description  @iot.id  \\\n",
       "0  Verkehrszählstelle zur Zählung der vom Infraro...     5564   \n",
       "1  Verkehrszählstelle zur Zählung der vom Infraro...     5565   \n",
       "2  Verkehrszählstelle zur Zählung der vom Infraro...     5566   \n",
       "3  Verkehrszählstelle zur Zählung der vom Infraro...     5567   \n",
       "4  Verkehrszählstelle zur Zählung der vom Infraro...     5568   \n",
       "\n",
       "                         name                             @iot.selfLink  \\\n",
       "0  Verkehrszählstelle 0295970  https://iot.hamburg.de/v1.1/Things(5564)   \n",
       "1  Verkehrszählstelle 0295971  https://iot.hamburg.de/v1.1/Things(5565)   \n",
       "2  Verkehrszählstelle 0295972  https://iot.hamburg.de/v1.1/Things(5566)   \n",
       "3  Verkehrszählstelle 0004940  https://iot.hamburg.de/v1.1/Things(5567)   \n",
       "4  Verkehrszählstelle 0004941  https://iot.hamburg.de/v1.1/Things(5568)   \n",
       "\n",
       "                                           Locations  \\\n",
       "0  [{'description': 'Mittelpunkt des Streckenverl...   \n",
       "1  [{'description': 'Mittelpunkt des Streckenverl...   \n",
       "2  [{'description': 'Mittelpunkt des Streckenverl...   \n",
       "3  [{'description': 'Mittelpunkt des Streckenverl...   \n",
       "4  [{'description': 'Mittelpunkt des Streckenverl...   \n",
       "\n",
       "              HistoricalLocations@iot.navigationLink  \\\n",
       "0  https://iot.hamburg.de/v1.1/Things(5564)/Histo...   \n",
       "1  https://iot.hamburg.de/v1.1/Things(5565)/Histo...   \n",
       "2  https://iot.hamburg.de/v1.1/Things(5566)/Histo...   \n",
       "3  https://iot.hamburg.de/v1.1/Things(5567)/Histo...   \n",
       "4  https://iot.hamburg.de/v1.1/Things(5568)/Histo...   \n",
       "\n",
       "                 MultiDatastreams@iot.navigationLink  \\\n",
       "0  https://iot.hamburg.de/v1.1/Things(5564)/Multi...   \n",
       "1  https://iot.hamburg.de/v1.1/Things(5565)/Multi...   \n",
       "2  https://iot.hamburg.de/v1.1/Things(5566)/Multi...   \n",
       "3  https://iot.hamburg.de/v1.1/Things(5567)/Multi...   \n",
       "4  https://iot.hamburg.de/v1.1/Things(5568)/Multi...   \n",
       "\n",
       "              TaskingCapabilities@iot.navigationLink  \\\n",
       "0  https://iot.hamburg.de/v1.1/Things(5564)/Taski...   \n",
       "1  https://iot.hamburg.de/v1.1/Things(5565)/Taski...   \n",
       "2  https://iot.hamburg.de/v1.1/Things(5566)/Taski...   \n",
       "3  https://iot.hamburg.de/v1.1/Things(5567)/Taski...   \n",
       "4  https://iot.hamburg.de/v1.1/Things(5568)/Taski...   \n",
       "\n",
       "                        Locations@iot.navigationLink  \\\n",
       "0  https://iot.hamburg.de/v1.1/Things(5564)/Locat...   \n",
       "1  https://iot.hamburg.de/v1.1/Things(5565)/Locat...   \n",
       "2  https://iot.hamburg.de/v1.1/Things(5566)/Locat...   \n",
       "3  https://iot.hamburg.de/v1.1/Things(5567)/Locat...   \n",
       "4  https://iot.hamburg.de/v1.1/Things(5568)/Locat...   \n",
       "\n",
       "                      Datastreams@iot.navigationLink properties.assetID  \\\n",
       "0  https://iot.hamburg.de/v1.1/Things(5564)/Datas...            0295970   \n",
       "1  https://iot.hamburg.de/v1.1/Things(5565)/Datas...            0295971   \n",
       "2  https://iot.hamburg.de/v1.1/Things(5566)/Datas...            0295972   \n",
       "3  https://iot.hamburg.de/v1.1/Things(5567)/Datas...            0004940   \n",
       "4  https://iot.hamburg.de/v1.1/Things(5568)/Datas...            0004941   \n",
       "\n",
       "                                 properties.keywords properties.language  \\\n",
       "0  [Infrarotdetektor, Verkehrsmenge, automatisier...                  de   \n",
       "1  [Infrarotdetektor, Verkehrsmenge, automatisier...                  de   \n",
       "2  [Infrarotdetektor, Verkehrsmenge, automatisier...                  de   \n",
       "3  [Infrarotdetektor, Verkehrsmenge, automatisier...                  de   \n",
       "4  [Infrarotdetektor, Verkehrsmenge, automatisier...                  de   \n",
       "\n",
       "    properties.richtung         properties.ownerThing  \\\n",
       "0           Querschnitt  Freie und Hansestadt Hamburg   \n",
       "1  Nordost nach Südwest  Freie und Hansestadt Hamburg   \n",
       "2  Südwest nach Nordost  Freie und Hansestadt Hamburg   \n",
       "3           Querschnitt  Freie und Hansestadt Hamburg   \n",
       "4         Ost nach West  Freie und Hansestadt Hamburg   \n",
       "\n",
       "  properties.infoLastUpdate properties.topic  \n",
       "0  2021-09-16T07:59:31.678Z              NaN  \n",
       "1  2021-09-16T07:59:30.886Z              NaN  \n",
       "2  2021-09-16T07:59:30.014Z              NaN  \n",
       "3  2021-09-16T09:11:25.563Z              NaN  \n",
       "4  2021-09-16T09:11:22.559Z              NaN  "
      ]
     },
     "execution_count": 166,
     "metadata": {},
     "output_type": "execute_result"
    }
   ],
   "source": [
    "#Normalization of the data set\n",
    "df_sensor_loc = pd.json_normalize(df_sensor_loc['value'])\n",
    "df_sensor_loc.head()"
   ]
  },
  {
   "cell_type": "markdown",
   "id": "d45c1377-d411-4020-b1c0-ee333adfbebe",
   "metadata": {},
   "source": [
    "A second data frame with the dictionary contained in locations will be created."
   ]
  },
  {
   "cell_type": "code",
   "execution_count": 167,
   "id": "3de849ec-05d6-42fd-95e1-af6dff3a6d41",
   "metadata": {
    "tags": []
   },
   "outputs": [],
   "source": [
    "df_loc = df_sensor_loc['Locations'].apply(lambda x: x[0]) #Extraction of dictionaries stored in column 'Locations'\n",
    "df_loc = pd.json_normalize(df_loc) # Normalization of the dictionary into a data frame"
   ]
  },
  {
   "cell_type": "code",
   "execution_count": 168,
   "id": "2da20b56-472f-46d9-9a43-3b4ac77a79cd",
   "metadata": {},
   "outputs": [
    {
     "data": {
      "text/html": [
       "<div>\n",
       "<style scoped>\n",
       "    .dataframe tbody tr th:only-of-type {\n",
       "        vertical-align: middle;\n",
       "    }\n",
       "\n",
       "    .dataframe tbody tr th {\n",
       "        vertical-align: top;\n",
       "    }\n",
       "\n",
       "    .dataframe thead th {\n",
       "        text-align: right;\n",
       "    }\n",
       "</style>\n",
       "<table border=\"1\" class=\"dataframe\">\n",
       "  <thead>\n",
       "    <tr style=\"text-align: right;\">\n",
       "      <th></th>\n",
       "      <th>description</th>\n",
       "      <th>encodingType</th>\n",
       "      <th>@iot.id</th>\n",
       "      <th>name</th>\n",
       "      <th>@iot.selfLink</th>\n",
       "      <th>location.type</th>\n",
       "      <th>location.geometry.type</th>\n",
       "      <th>location.geometry.coordinates</th>\n",
       "      <th>Logitude</th>\n",
       "      <th>Latitude</th>\n",
       "    </tr>\n",
       "  </thead>\n",
       "  <tbody>\n",
       "    <tr>\n",
       "      <th>0</th>\n",
       "      <td>Mittelpunkt des Streckenverlaufes bezüglich Zä...</td>\n",
       "      <td>application/vnd.geo+json</td>\n",
       "      <td>26517652</td>\n",
       "      <td>Verkehrszählstelle 0295970</td>\n",
       "      <td>https://iot.hamburg.de/v1.1/Locations(26517652)</td>\n",
       "      <td>Feature</td>\n",
       "      <td>Point</td>\n",
       "      <td>[9.999098, 53.579928]</td>\n",
       "      <td>9.999098</td>\n",
       "      <td>53.579928</td>\n",
       "    </tr>\n",
       "    <tr>\n",
       "      <th>1</th>\n",
       "      <td>Mittelpunkt des Streckenverlaufes bezüglich Zä...</td>\n",
       "      <td>application/vnd.geo+json</td>\n",
       "      <td>26517653</td>\n",
       "      <td>Verkehrszählstelle 0295971</td>\n",
       "      <td>https://iot.hamburg.de/v1.1/Locations(26517653)</td>\n",
       "      <td>Feature</td>\n",
       "      <td>Point</td>\n",
       "      <td>[9.998994, 53.579992]</td>\n",
       "      <td>9.998994</td>\n",
       "      <td>53.579992</td>\n",
       "    </tr>\n",
       "    <tr>\n",
       "      <th>2</th>\n",
       "      <td>Mittelpunkt des Streckenverlaufes bezüglich Zä...</td>\n",
       "      <td>application/vnd.geo+json</td>\n",
       "      <td>26517654</td>\n",
       "      <td>Verkehrszählstelle 0295972</td>\n",
       "      <td>https://iot.hamburg.de/v1.1/Locations(26517654)</td>\n",
       "      <td>Feature</td>\n",
       "      <td>Point</td>\n",
       "      <td>[9.999202, 53.579864]</td>\n",
       "      <td>9.999202</td>\n",
       "      <td>53.579864</td>\n",
       "    </tr>\n",
       "    <tr>\n",
       "      <th>3</th>\n",
       "      <td>Mittelpunkt des Streckenverlaufes bezüglich Zä...</td>\n",
       "      <td>application/vnd.geo+json</td>\n",
       "      <td>26517658</td>\n",
       "      <td>Verkehrszählstelle 0004940</td>\n",
       "      <td>https://iot.hamburg.de/v1.1/Locations(26517658)</td>\n",
       "      <td>Feature</td>\n",
       "      <td>Point</td>\n",
       "      <td>[9.953765, 53.575705]</td>\n",
       "      <td>9.953765</td>\n",
       "      <td>53.575705</td>\n",
       "    </tr>\n",
       "    <tr>\n",
       "      <th>4</th>\n",
       "      <td>Mittelpunkt des Streckenverlaufes bezüglich Zä...</td>\n",
       "      <td>application/vnd.geo+json</td>\n",
       "      <td>26517659</td>\n",
       "      <td>Verkehrszählstelle 0004941</td>\n",
       "      <td>https://iot.hamburg.de/v1.1/Locations(26517659)</td>\n",
       "      <td>Feature</td>\n",
       "      <td>Point</td>\n",
       "      <td>[9.95378679, 53.5757405]</td>\n",
       "      <td>9.953787</td>\n",
       "      <td>53.575741</td>\n",
       "    </tr>\n",
       "  </tbody>\n",
       "</table>\n",
       "</div>"
      ],
      "text/plain": [
       "                                         description  \\\n",
       "0  Mittelpunkt des Streckenverlaufes bezüglich Zä...   \n",
       "1  Mittelpunkt des Streckenverlaufes bezüglich Zä...   \n",
       "2  Mittelpunkt des Streckenverlaufes bezüglich Zä...   \n",
       "3  Mittelpunkt des Streckenverlaufes bezüglich Zä...   \n",
       "4  Mittelpunkt des Streckenverlaufes bezüglich Zä...   \n",
       "\n",
       "               encodingType   @iot.id                        name  \\\n",
       "0  application/vnd.geo+json  26517652  Verkehrszählstelle 0295970   \n",
       "1  application/vnd.geo+json  26517653  Verkehrszählstelle 0295971   \n",
       "2  application/vnd.geo+json  26517654  Verkehrszählstelle 0295972   \n",
       "3  application/vnd.geo+json  26517658  Verkehrszählstelle 0004940   \n",
       "4  application/vnd.geo+json  26517659  Verkehrszählstelle 0004941   \n",
       "\n",
       "                                     @iot.selfLink location.type  \\\n",
       "0  https://iot.hamburg.de/v1.1/Locations(26517652)       Feature   \n",
       "1  https://iot.hamburg.de/v1.1/Locations(26517653)       Feature   \n",
       "2  https://iot.hamburg.de/v1.1/Locations(26517654)       Feature   \n",
       "3  https://iot.hamburg.de/v1.1/Locations(26517658)       Feature   \n",
       "4  https://iot.hamburg.de/v1.1/Locations(26517659)       Feature   \n",
       "\n",
       "  location.geometry.type location.geometry.coordinates  Logitude   Latitude  \n",
       "0                  Point         [9.999098, 53.579928]  9.999098  53.579928  \n",
       "1                  Point         [9.998994, 53.579992]  9.998994  53.579992  \n",
       "2                  Point         [9.999202, 53.579864]  9.999202  53.579864  \n",
       "3                  Point         [9.953765, 53.575705]  9.953765  53.575705  \n",
       "4                  Point      [9.95378679, 53.5757405]  9.953787  53.575741  "
      ]
     },
     "execution_count": 168,
     "metadata": {},
     "output_type": "execute_result"
    }
   ],
   "source": [
    "#spliting of the 'location.geometry.coordinates' into 'Longitude' and 'Latitude' columns\n",
    "df_loc[['Logitude', 'Latitude']] = pd.DataFrame(df_loc['location.geometry.coordinates']\n",
    "                                                .tolist(), index=df_loc.index) \n",
    "df_loc.head()"
   ]
  },
  {
   "cell_type": "markdown",
   "id": "27e49305-d690-4e10-a4a2-93dd344b529e",
   "metadata": {},
   "source": [
    "##### Second option to try is to use .json_normalize"
   ]
  },
  {
   "cell_type": "markdown",
   "id": "d818a769-6808-4383-a47a-99312db95f9e",
   "metadata": {},
   "source": [
    "**Create the location data frame**"
   ]
  },
  {
   "cell_type": "code",
   "execution_count": 12,
   "id": "00a640a9-e1ff-4143-890b-6d0aac50bcc6",
   "metadata": {},
   "outputs": [],
   "source": [
    "df_sen_loc = pd.DataFrame()"
   ]
  },
  {
   "cell_type": "code",
   "execution_count": 13,
   "id": "4d2e8401-d0ea-4bff-ade8-6264a47025b6",
   "metadata": {},
   "outputs": [],
   "source": [
    "df_sen_loc['Name'] = test_loc['name'] "
   ]
  },
  {
   "cell_type": "code",
   "execution_count": 14,
   "id": "dc84e9f8-8309-40d1-8682-7c25b0ac1b48",
   "metadata": {},
   "outputs": [],
   "source": [
    "test_org = df_sen_loc.Name.str.split(expand=True)"
   ]
  },
  {
   "cell_type": "code",
   "execution_count": 15,
   "id": "2c1c7268-b3dd-4d0f-a0f5-fbb97c2f308c",
   "metadata": {},
   "outputs": [],
   "source": [
    "list_type = []\n",
    "for i,row in test_org.iterrows():\n",
    "    if row[6] == None:\n",
    "        row[1], row[6] = row[6], row[1]\n",
    "        list_type.append(row[0]) \n",
    "    else:\n",
    "        row[3], row[4], row[5], row[6] = row[4], row[5], row[6], row[3]\n",
    "        list_type.append((row[0] + ' ' + row[1] + ' ' \n",
    "                    + row[2] + ' ' + row[3] + ' ' + row[4] + ' ' + row[5]))\n",
    "        #print(row[6]==None)\n",
    "        #print(row)\n",
    "        #print(i)"
   ]
  },
  {
   "cell_type": "code",
   "execution_count": 16,
   "id": "6a73388b-f569-499e-8fd1-0bc53ee7b3a8",
   "metadata": {},
   "outputs": [],
   "source": [
    "test_org['Type'] = list_type"
   ]
  },
  {
   "cell_type": "code",
   "execution_count": 17,
   "id": "f020a559-bb6f-4cd6-a902-833e797548fb",
   "metadata": {},
   "outputs": [],
   "source": [
    "del test_org[0]\n",
    "del test_org[1]\n",
    "del test_org[2]\n",
    "del test_org[3]\n",
    "del test_org[4]\n",
    "del test_org[5]"
   ]
  },
  {
   "cell_type": "code",
   "execution_count": 18,
   "id": "fd04eaf8-8ce9-43a0-a19c-1dc7f6ebb5d6",
   "metadata": {},
   "outputs": [],
   "source": [
    "test_org.columns = ['ID', 'Type']"
   ]
  },
  {
   "cell_type": "code",
   "execution_count": 19,
   "id": "227ea312-fe63-422c-84ce-2540608134dd",
   "metadata": {},
   "outputs": [
    {
     "data": {
      "text/html": [
       "<div>\n",
       "<style scoped>\n",
       "    .dataframe tbody tr th:only-of-type {\n",
       "        vertical-align: middle;\n",
       "    }\n",
       "\n",
       "    .dataframe tbody tr th {\n",
       "        vertical-align: top;\n",
       "    }\n",
       "\n",
       "    .dataframe thead th {\n",
       "        text-align: right;\n",
       "    }\n",
       "</style>\n",
       "<table border=\"1\" class=\"dataframe\">\n",
       "  <thead>\n",
       "    <tr style=\"text-align: right;\">\n",
       "      <th></th>\n",
       "      <th>ID</th>\n",
       "      <th>Type</th>\n",
       "      <th>Loc</th>\n",
       "      <th>Logitude</th>\n",
       "      <th>Latitude</th>\n",
       "    </tr>\n",
       "  </thead>\n",
       "  <tbody>\n",
       "    <tr>\n",
       "      <th>0</th>\n",
       "      <td>0295970</td>\n",
       "      <td>Verkehrszählstelle</td>\n",
       "      <td>[9.999098, 53.579928]</td>\n",
       "      <td>9.999098</td>\n",
       "      <td>53.579928</td>\n",
       "    </tr>\n",
       "    <tr>\n",
       "      <th>1</th>\n",
       "      <td>0295971</td>\n",
       "      <td>Verkehrszählstelle</td>\n",
       "      <td>[9.998994, 53.579992]</td>\n",
       "      <td>9.998994</td>\n",
       "      <td>53.579992</td>\n",
       "    </tr>\n",
       "    <tr>\n",
       "      <th>2</th>\n",
       "      <td>0295972</td>\n",
       "      <td>Verkehrszählstelle</td>\n",
       "      <td>[9.999202, 53.579864]</td>\n",
       "      <td>9.999202</td>\n",
       "      <td>53.579864</td>\n",
       "    </tr>\n",
       "    <tr>\n",
       "      <th>3</th>\n",
       "      <td>0004940</td>\n",
       "      <td>Verkehrszählstelle</td>\n",
       "      <td>[9.953765, 53.575705]</td>\n",
       "      <td>9.953765</td>\n",
       "      <td>53.575705</td>\n",
       "    </tr>\n",
       "    <tr>\n",
       "      <th>4</th>\n",
       "      <td>0004941</td>\n",
       "      <td>Verkehrszählstelle</td>\n",
       "      <td>[9.95378679, 53.5757405]</td>\n",
       "      <td>9.953787</td>\n",
       "      <td>53.575741</td>\n",
       "    </tr>\n",
       "    <tr>\n",
       "      <th>...</th>\n",
       "      <td>...</td>\n",
       "      <td>...</td>\n",
       "      <td>...</td>\n",
       "      <td>...</td>\n",
       "      <td>...</td>\n",
       "    </tr>\n",
       "    <tr>\n",
       "      <th>95</th>\n",
       "      <td>D_22.2_1_G</td>\n",
       "      <td>Ankerpunkt des Zählfeldes des zugeordneten Inf...</td>\n",
       "      <td>[9.868206, 53.571221]</td>\n",
       "      <td>9.868206</td>\n",
       "      <td>53.571221</td>\n",
       "    </tr>\n",
       "    <tr>\n",
       "      <th>96</th>\n",
       "      <td>D_22.2_2_I</td>\n",
       "      <td>Ankerpunkt des Zählfeldes des zugeordneten Inf...</td>\n",
       "      <td>[9.868206, 53.571221]</td>\n",
       "      <td>9.868206</td>\n",
       "      <td>53.571221</td>\n",
       "    </tr>\n",
       "    <tr>\n",
       "      <th>97</th>\n",
       "      <td>B_16.1_1_I</td>\n",
       "      <td>Ankerpunkt des Zählfeldes des zugeordneten Inf...</td>\n",
       "      <td>[10.018952, 53.490956]</td>\n",
       "      <td>10.018952</td>\n",
       "      <td>53.490956</td>\n",
       "    </tr>\n",
       "    <tr>\n",
       "      <th>98</th>\n",
       "      <td>B_16.1_2_G</td>\n",
       "      <td>Ankerpunkt des Zählfeldes des zugeordneten Inf...</td>\n",
       "      <td>[10.018952, 53.490956]</td>\n",
       "      <td>10.018952</td>\n",
       "      <td>53.490956</td>\n",
       "    </tr>\n",
       "    <tr>\n",
       "      <th>99</th>\n",
       "      <td>B_50.6_1_I</td>\n",
       "      <td>Ankerpunkt des Zählfeldes des zugeordneten Inf...</td>\n",
       "      <td>[9.98469105, 53.4569609]</td>\n",
       "      <td>9.984691</td>\n",
       "      <td>53.456961</td>\n",
       "    </tr>\n",
       "  </tbody>\n",
       "</table>\n",
       "<p>100 rows × 5 columns</p>\n",
       "</div>"
      ],
      "text/plain": [
       "            ID                                               Type  \\\n",
       "0      0295970                                 Verkehrszählstelle   \n",
       "1      0295971                                 Verkehrszählstelle   \n",
       "2      0295972                                 Verkehrszählstelle   \n",
       "3      0004940                                 Verkehrszählstelle   \n",
       "4      0004941                                 Verkehrszählstelle   \n",
       "..         ...                                                ...   \n",
       "95  D_22.2_1_G  Ankerpunkt des Zählfeldes des zugeordneten Inf...   \n",
       "96  D_22.2_2_I  Ankerpunkt des Zählfeldes des zugeordneten Inf...   \n",
       "97  B_16.1_1_I  Ankerpunkt des Zählfeldes des zugeordneten Inf...   \n",
       "98  B_16.1_2_G  Ankerpunkt des Zählfeldes des zugeordneten Inf...   \n",
       "99  B_50.6_1_I  Ankerpunkt des Zählfeldes des zugeordneten Inf...   \n",
       "\n",
       "                         Loc   Logitude   Latitude  \n",
       "0      [9.999098, 53.579928]   9.999098  53.579928  \n",
       "1      [9.998994, 53.579992]   9.998994  53.579992  \n",
       "2      [9.999202, 53.579864]   9.999202  53.579864  \n",
       "3      [9.953765, 53.575705]   9.953765  53.575705  \n",
       "4   [9.95378679, 53.5757405]   9.953787  53.575741  \n",
       "..                       ...        ...        ...  \n",
       "95     [9.868206, 53.571221]   9.868206  53.571221  \n",
       "96     [9.868206, 53.571221]   9.868206  53.571221  \n",
       "97    [10.018952, 53.490956]  10.018952  53.490956  \n",
       "98    [10.018952, 53.490956]  10.018952  53.490956  \n",
       "99  [9.98469105, 53.4569609]   9.984691  53.456961  \n",
       "\n",
       "[100 rows x 5 columns]"
      ]
     },
     "execution_count": 19,
     "metadata": {},
     "output_type": "execute_result"
    }
   ],
   "source": [
    "test_org['Loc'] = test_loc['location.geometry.coordinates']\n",
    "test_org[['Logitude', 'Latitude']] = pd.DataFrame(test_org.Loc.tolist(), index=df_sen_loc.index)\n",
    "test_org"
   ]
  },
  {
   "cell_type": "markdown",
   "id": "6b02de8b-c3f9-4838-aee0-82e2bbea1900",
   "metadata": {},
   "source": [
    "##### Request API test"
   ]
  },
  {
   "cell_type": "code",
   "execution_count": 20,
   "id": "d39784b8-f902-44e2-8e21-b61694ace8bb",
   "metadata": {},
   "outputs": [],
   "source": [
    "import requests"
   ]
  },
  {
   "cell_type": "code",
   "execution_count": 21,
   "id": "d7db85b0-bae0-464e-979a-127d83b0f99c",
   "metadata": {},
   "outputs": [],
   "source": [
    "#url = 'https://iot.hamburg.de/v1.1/Datastreams?$skip=100'\n",
    "url = 'https://iot.hamburg.de/v1.1/Things?$filter=Datastreams/properties/serviceName%20eq%20%27HH_STA_HamburgerRadzaehlnetz%27%20&$count=true&$expand=Locations'\n",
    "response = requests.get(url).json()\n",
    "data = pd.json_normalize(response)"
   ]
  },
  {
   "cell_type": "code",
   "execution_count": 22,
   "id": "bb636dc7-2799-4f5d-8fa4-ea6d7d5b2acc",
   "metadata": {},
   "outputs": [
    {
     "data": {
      "text/html": [
       "<div>\n",
       "<style scoped>\n",
       "    .dataframe tbody tr th:only-of-type {\n",
       "        vertical-align: middle;\n",
       "    }\n",
       "\n",
       "    .dataframe tbody tr th {\n",
       "        vertical-align: top;\n",
       "    }\n",
       "\n",
       "    .dataframe thead th {\n",
       "        text-align: right;\n",
       "    }\n",
       "</style>\n",
       "<table border=\"1\" class=\"dataframe\">\n",
       "  <thead>\n",
       "    <tr style=\"text-align: right;\">\n",
       "      <th></th>\n",
       "      <th>@iot.count</th>\n",
       "      <th>@iot.nextLink</th>\n",
       "      <th>value</th>\n",
       "    </tr>\n",
       "  </thead>\n",
       "  <tbody>\n",
       "    <tr>\n",
       "      <th>0</th>\n",
       "      <td>312</td>\n",
       "      <td>https://iot.hamburg.de/v1.1/Things?$skip=100&amp;$...</td>\n",
       "      <td>[{'description': 'Verkehrszählstelle zur Zählu...</td>\n",
       "    </tr>\n",
       "  </tbody>\n",
       "</table>\n",
       "</div>"
      ],
      "text/plain": [
       "   @iot.count                                      @iot.nextLink  \\\n",
       "0         312  https://iot.hamburg.de/v1.1/Things?$skip=100&$...   \n",
       "\n",
       "                                               value  \n",
       "0  [{'description': 'Verkehrszählstelle zur Zählu...  "
      ]
     },
     "execution_count": 22,
     "metadata": {},
     "output_type": "execute_result"
    }
   ],
   "source": [
    "data"
   ]
  },
  {
   "cell_type": "code",
   "execution_count": 23,
   "id": "0b9991dd-603b-422b-b301-4b506b4174a0",
   "metadata": {},
   "outputs": [
    {
     "data": {
      "text/plain": [
       "{'description': 'Zählfeld zur Bestimmung der vom Infrarotdetektor erfassten Fahrräder',\n",
       " '@iot.id': 5715,\n",
       " 'name': 'Zählfeld B_50.6_1_I',\n",
       " 'properties': {'assetID': 'B_50.6_1_I',\n",
       "  'keywords': ['Infrarotdetektor',\n",
       "   'Verkehrsmenge',\n",
       "   'automatisierte Verkehrsmengenerfassung',\n",
       "   'Hamburger Radzählnetz',\n",
       "   'Hamburg',\n",
       "   'aVME',\n",
       "   'HaRaZäN',\n",
       "   'Zählfeld'],\n",
       "  'language': 'de',\n",
       "  'richtung': 'Hauptrichtung',\n",
       "  'ownerThing': 'Hamburg Verkehrsanlagen',\n",
       "  'infoLastUpdate': '2021-09-16T09:08:22.899Z'},\n",
       " '@iot.selfLink': 'https://iot.hamburg.de/v1.1/Things(5715)',\n",
       " 'Locations': [{'description': 'Zählfeld auf Geh-/Radweg in Richtung 1 in Hauptrichtung zur Hauptverkehrsführung',\n",
       "   'encodingType': 'application/vnd.geo+json',\n",
       "   '@iot.id': 26517494,\n",
       "   'location': {'type': 'Feature',\n",
       "    'geometry': {'type': 'Point', 'coordinates': [9.98469105, 53.4569609]}},\n",
       "   'name': 'Ankerpunkt des Zählfeldes B_50.6_1_I des zugeordneten Infrarotdetektors',\n",
       "   '@iot.selfLink': 'https://iot.hamburg.de/v1.1/Locations(26517494)'}],\n",
       " 'HistoricalLocations@iot.navigationLink': 'https://iot.hamburg.de/v1.1/Things(5715)/HistoricalLocations',\n",
       " 'MultiDatastreams@iot.navigationLink': 'https://iot.hamburg.de/v1.1/Things(5715)/MultiDatastreams',\n",
       " 'TaskingCapabilities@iot.navigationLink': 'https://iot.hamburg.de/v1.1/Things(5715)/TaskingCapabilities',\n",
       " 'Locations@iot.navigationLink': 'https://iot.hamburg.de/v1.1/Things(5715)/Locations',\n",
       " 'Datastreams@iot.navigationLink': 'https://iot.hamburg.de/v1.1/Things(5715)/Datastreams'}"
      ]
     },
     "execution_count": 23,
     "metadata": {},
     "output_type": "execute_result"
    }
   ],
   "source": [
    "data['value'][0][99]"
   ]
  },
  {
   "cell_type": "code",
   "execution_count": 24,
   "id": "4034ba1d-3076-4a7c-a3c8-6949fabbcf35",
   "metadata": {},
   "outputs": [
    {
     "data": {
      "text/plain": [
       "'https://iot.hamburg.de/v1.1/Things?$skip=100&$filter=%28Datastreams%2Fproperties%2FserviceName+eq+%27HH_STA_HamburgerRadzaehlnetz%27%29&$expand=Locations&$count=true'"
      ]
     },
     "execution_count": 24,
     "metadata": {},
     "output_type": "execute_result"
    }
   ],
   "source": [
    "data['@iot.nextLink'][0]"
   ]
  },
  {
   "cell_type": "code",
   "execution_count": 25,
   "id": "214e6361-f3f1-4f57-b479-b9fddbe27333",
   "metadata": {},
   "outputs": [],
   "source": [
    "url = data['@iot.nextLink'][0]\n",
    "response = requests.get(url).json()\n",
    "data = pd.json_normalize(response)"
   ]
  },
  {
   "cell_type": "code",
   "execution_count": 26,
   "id": "8fbc7f00-1abf-4b7b-8b53-80721961ed49",
   "metadata": {},
   "outputs": [
    {
     "data": {
      "text/html": [
       "<div>\n",
       "<style scoped>\n",
       "    .dataframe tbody tr th:only-of-type {\n",
       "        vertical-align: middle;\n",
       "    }\n",
       "\n",
       "    .dataframe tbody tr th {\n",
       "        vertical-align: top;\n",
       "    }\n",
       "\n",
       "    .dataframe thead th {\n",
       "        text-align: right;\n",
       "    }\n",
       "</style>\n",
       "<table border=\"1\" class=\"dataframe\">\n",
       "  <thead>\n",
       "    <tr style=\"text-align: right;\">\n",
       "      <th></th>\n",
       "      <th>@iot.count</th>\n",
       "      <th>@iot.nextLink</th>\n",
       "      <th>value</th>\n",
       "    </tr>\n",
       "  </thead>\n",
       "  <tbody>\n",
       "    <tr>\n",
       "      <th>0</th>\n",
       "      <td>312</td>\n",
       "      <td>https://iot.hamburg.de/v1.1/Things?$skip=200&amp;$...</td>\n",
       "      <td>[{'description': 'Zählfeld zur Bestimmung der ...</td>\n",
       "    </tr>\n",
       "  </tbody>\n",
       "</table>\n",
       "</div>"
      ],
      "text/plain": [
       "   @iot.count                                      @iot.nextLink  \\\n",
       "0         312  https://iot.hamburg.de/v1.1/Things?$skip=200&$...   \n",
       "\n",
       "                                               value  \n",
       "0  [{'description': 'Zählfeld zur Bestimmung der ...  "
      ]
     },
     "execution_count": 26,
     "metadata": {},
     "output_type": "execute_result"
    }
   ],
   "source": [
    "data"
   ]
  },
  {
   "cell_type": "code",
   "execution_count": 27,
   "id": "9c6634c7-cec6-4781-b699-2b046ba28dd4",
   "metadata": {},
   "outputs": [
    {
     "data": {
      "text/plain": [
       "{'description': 'Zählfeld zur Bestimmung der vom Infrarotdetektor erfassten Fahrräder',\n",
       " '@iot.id': 5727,\n",
       " 'name': 'Zählfeld A_25.1_1_I',\n",
       " 'properties': {'assetID': 'A_25.1_1_I',\n",
       "  'keywords': ['Infrarotdetektor',\n",
       "   'Verkehrsmenge',\n",
       "   'automatisierte Verkehrsmengenerfassung',\n",
       "   'Hamburger Radzählnetz',\n",
       "   'Hamburg',\n",
       "   'aVME',\n",
       "   'HaRaZäN',\n",
       "   'Zählfeld'],\n",
       "  'language': 'de',\n",
       "  'richtung': 'Hauptrichtung',\n",
       "  'ownerThing': 'Hamburg Verkehrsanlagen',\n",
       "  'infoLastUpdate': '2021-09-16T09:08:06.003Z'},\n",
       " '@iot.selfLink': 'https://iot.hamburg.de/v1.1/Things(5727)',\n",
       " 'Locations': [{'description': 'Zählfeld auf Radweg in Richtung 1 in Hauptrichtung zur Hauptverkehrsführung',\n",
       "   'encodingType': 'application/vnd.geo+json',\n",
       "   '@iot.id': 26517506,\n",
       "   'location': {'type': 'Feature',\n",
       "    'geometry': {'type': 'Point', 'coordinates': [9.998648, 53.557595]}},\n",
       "   'name': 'Ankerpunkt des Zählfeldes A_25.1_1_I des zugeordneten Infrarotdetektors',\n",
       "   '@iot.selfLink': 'https://iot.hamburg.de/v1.1/Locations(26517506)'}],\n",
       " 'Locations@iot.navigationLink': 'https://iot.hamburg.de/v1.1/Things(5727)/Locations',\n",
       " 'MultiDatastreams@iot.navigationLink': 'https://iot.hamburg.de/v1.1/Things(5727)/MultiDatastreams',\n",
       " 'Datastreams@iot.navigationLink': 'https://iot.hamburg.de/v1.1/Things(5727)/Datastreams',\n",
       " 'HistoricalLocations@iot.navigationLink': 'https://iot.hamburg.de/v1.1/Things(5727)/HistoricalLocations',\n",
       " 'TaskingCapabilities@iot.navigationLink': 'https://iot.hamburg.de/v1.1/Things(5727)/TaskingCapabilities'}"
      ]
     },
     "execution_count": 27,
     "metadata": {},
     "output_type": "execute_result"
    }
   ],
   "source": [
    "data['value'][0][11]"
   ]
  },
  {
   "cell_type": "code",
   "execution_count": null,
   "id": "93b44eca-a989-413a-ad47-69495e577cac",
   "metadata": {},
   "outputs": [],
   "source": []
  }
 ],
 "metadata": {
  "kernelspec": {
   "display_name": "Python 3 (ipykernel)",
   "language": "python",
   "name": "python3"
  },
  "language_info": {
   "codemirror_mode": {
    "name": "ipython",
    "version": 3
   },
   "file_extension": ".py",
   "mimetype": "text/x-python",
   "name": "python",
   "nbconvert_exporter": "python",
   "pygments_lexer": "ipython3",
   "version": "3.9.7"
  }
 },
 "nbformat": 4,
 "nbformat_minor": 5
}
